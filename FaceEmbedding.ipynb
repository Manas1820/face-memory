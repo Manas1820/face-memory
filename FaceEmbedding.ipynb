{
  "nbformat": 4,
  "nbformat_minor": 0,
  "metadata": {
    "colab": {
      "name": "FaceEmbedding.ipynb",
      "provenance": [],
      "mount_file_id": "10SNXdHgwdsg2eRDZLFxmy0pvhB93xzZJ",
      "authorship_tag": "ABX9TyOIhWGjh5MRVY/H2FPogPyr",
      "include_colab_link": true
    },
    "kernelspec": {
      "name": "python3",
      "display_name": "Python 3"
    }
  },
  "cells": [
    {
      "cell_type": "markdown",
      "metadata": {
        "id": "view-in-github",
        "colab_type": "text"
      },
      "source": [
        "<a href=\"https://colab.research.google.com/github/Manas1820/face-memory/blob/main/FaceEmbedding.ipynb\" target=\"_parent\"><img src=\"https://colab.research.google.com/assets/colab-badge.svg\" alt=\"Open In Colab\"/></a>"
      ]
    },
    {
      "cell_type": "code",
      "metadata": {
        "colab": {
          "base_uri": "https://localhost:8080/"
        },
        "id": "nwOr3TrmL1JD",
        "outputId": "57240498-125f-497d-bd73-12e3cb5785e8"
      },
      "source": [
        "# load the facenet model\n",
        "from tensorflow import keras\n",
        "model = keras.models.load_model('/content/drive/MyDrive/FaceNet/facenet_keras.h5',compile=False)\n",
        "print('Loaded Model')"
      ],
      "execution_count": 2,
      "outputs": [
        {
          "output_type": "stream",
          "text": [
            "Loaded Model\n"
          ],
          "name": "stdout"
        }
      ]
    },
    {
      "cell_type": "code",
      "metadata": {
        "colab": {
          "base_uri": "https://localhost:8080/"
        },
        "id": "2MtcyxRnQIld",
        "outputId": "1c201a67-e695-4238-bdf9-2dc8d99ab9d9"
      },
      "source": [
        "# load the face dataset\n",
        "import numpy as np\n",
        "data = np.load('/content/drive/MyDrive/FaceNet/dataset.npz')\n",
        "trainX, trainy, testX, testy = data['arr_0'], data['arr_1'], data['arr_2'], data['arr_3']\n",
        "print('Loaded: ', trainX.shape, trainy.shape, testX.shape, testy.shape)"
      ],
      "execution_count": 4,
      "outputs": [
        {
          "output_type": "stream",
          "text": [
            "Loaded:  (12, 160, 160, 3) (12,) (8, 160, 160, 3) (8,)\n"
          ],
          "name": "stdout"
        }
      ]
    },
    {
      "cell_type": "markdown",
      "metadata": {
        "id": "2NZh2c4ktLa7"
      },
      "source": [
        "Logic for embedding a face"
      ]
    },
    {
      "cell_type": "code",
      "metadata": {
        "id": "Zmuxu-CqQyoP"
      },
      "source": [
        "# get the face embedding for one face\n",
        "def get_embedding(model, face_pixels):\n",
        "\tface_pixels = face_pixels.astype('float32')\n",
        "\tmean, std = face_pixels.mean(), face_pixels.std()\n",
        "\tface_pixels = (face_pixels - mean) / std\n",
        "\tsamples = np.expand_dims(face_pixels, axis=0)\n",
        "\tyhat = model.predict(samples)\n",
        "\treturn yhat[0]"
      ],
      "execution_count": 6,
      "outputs": []
    },
    {
      "cell_type": "markdown",
      "metadata": {
        "id": "bAEK5PPTtGuT"
      },
      "source": [
        "Converting each face in the training set to an embedding"
      ]
    },
    {
      "cell_type": "code",
      "metadata": {
        "colab": {
          "base_uri": "https://localhost:8080/"
        },
        "id": "JkobRqBZaYL7",
        "outputId": "9be712ac-2729-41a9-99cc-62cf3d860331"
      },
      "source": [
        "newTrainX = list()\n",
        "for face_pixels in trainX:\n",
        "\tembedding = get_embedding(model, face_pixels)\n",
        "\tnewTrainX.append(embedding)\n",
        "newTrainX = np.asarray(newTrainX)\n",
        "print(newTrainX.shape)"
      ],
      "execution_count": 7,
      "outputs": [
        {
          "output_type": "stream",
          "text": [
            "(12, 128)\n"
          ],
          "name": "stdout"
        }
      ]
    },
    {
      "cell_type": "markdown",
      "metadata": {
        "id": "87i2C2iss_E9"
      },
      "source": [
        "Converting each face in the test set to an embedding"
      ]
    },
    {
      "cell_type": "code",
      "metadata": {
        "colab": {
          "base_uri": "https://localhost:8080/"
        },
        "id": "2xlobaCYacgX",
        "outputId": "ff3befa0-6a29-4548-8fbf-010aeb30413a"
      },
      "source": [
        "newTestX = list()\n",
        "for face_pixels in testX:\n",
        "\tembedding = get_embedding(model, face_pixels)\n",
        "\tnewTestX.append(embedding)\n",
        "newTestX = np.asarray(newTestX)\n",
        "print(newTestX.shape)"
      ],
      "execution_count": 8,
      "outputs": [
        {
          "output_type": "stream",
          "text": [
            "(8, 128)\n"
          ],
          "name": "stdout"
        }
      ]
    },
    {
      "cell_type": "markdown",
      "metadata": {
        "id": "odOQKyPSsu6Q"
      },
      "source": [
        "Saving arrays to one file in compressed format"
      ]
    },
    {
      "cell_type": "code",
      "metadata": {
        "id": "MQBSLyjhafec"
      },
      "source": [
        "np.savez_compressed('embeddings.npz', newTrainX, trainy, newTestX, testy)"
      ],
      "execution_count": 10,
      "outputs": []
    }
  ]
}