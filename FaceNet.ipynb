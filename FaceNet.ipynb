{
  "nbformat": 4,
  "nbformat_minor": 0,
  "metadata": {
    "colab": {
      "name": "FaceNet.ipynb",
      "provenance": [],
      "collapsed_sections": [],
      "mount_file_id": "14yW96ix5V-rsIvyftsQCiz_gCOEuNjb4",
      "authorship_tag": "ABX9TyOIn6WpoPYQbDDmY0Y8hG8Y",
      "include_colab_link": true
    },
    "kernelspec": {
      "name": "python3",
      "display_name": "Python 3"
    }
  },
  "cells": [
    {
      "cell_type": "markdown",
      "metadata": {
        "id": "view-in-github",
        "colab_type": "text"
      },
      "source": [
        "<a href=\"https://colab.research.google.com/github/Manas1820/face-memory/blob/main/FaceNet.ipynb\" target=\"_parent\"><img src=\"https://colab.research.google.com/assets/colab-badge.svg\" alt=\"Open In Colab\"/></a>"
      ]
    },
    {
      "cell_type": "code",
      "metadata": {
        "id": "CAv-FdctRZWu"
      },
      "source": [
        "#!pip install mtcnn\n",
        "from PIL import Image\n",
        "from numpy import asarray\n",
        "import numpy as np\n",
        "from mtcnn.mtcnn import MTCNN\n",
        "import os"
      ],
      "execution_count": 38,
      "outputs": []
    },
    {
      "cell_type": "markdown",
      "metadata": {
        "id": "TtqwWT0RyYSz"
      },
      "source": [
        "To extract faces from a image using mtcnn"
      ]
    },
    {
      "cell_type": "code",
      "metadata": {
        "id": "QgI1qvf3RvDR"
      },
      "source": [
        "def extract_face(filename, required_size=(160, 160)):\n",
        "\timage = Image.open(filename)\n",
        "\timage = image.convert('RGB')\n",
        "\tpixels = asarray(image)\n",
        "\tdetector = MTCNN()\n",
        "\tresults = detector.detect_faces(pixels)\n",
        "\t# extract the bounding box from the first face\n",
        "\tx1, y1, width, height = results[0]['box']\n",
        "\tx1, y1 = abs(x1), abs(y1)\n",
        "\tx2, y2 = x1 + width, y1 + height\n",
        "\t# extract the face\n",
        "\tface = pixels[y1:y2, x1:x2]\n",
        "\t# resize pixels to the model size\n",
        "\timage = Image.fromarray(face)\n",
        "\timage = image.resize(required_size)\n",
        "\tface_array = asarray(image)\n",
        "\treturn face_array"
      ],
      "execution_count": 4,
      "outputs": []
    },
    {
      "cell_type": "markdown",
      "metadata": {
        "id": "orTpgIy4xptN"
      },
      "source": [
        "Load images and extract faces for all images in a directory"
      ]
    },
    {
      "cell_type": "code",
      "metadata": {
        "id": "W2yeGbkUbJM6"
      },
      "source": [
        "\n",
        "def load_faces(directory):\n",
        "\tfaces = list()\n",
        "\tfor filename in os.listdir(directory):\n",
        "\t\tpath = directory + filename\n",
        "\t\tface = extract_face(path)\n",
        "\t\tfaces.append(face)\n",
        "\treturn faces"
      ],
      "execution_count": 33,
      "outputs": []
    },
    {
      "cell_type": "markdown",
      "metadata": {
        "id": "I-1hVagQxxw8"
      },
      "source": [
        "Detects faces for each subdirectory and assigns them label"
      ]
    },
    {
      "cell_type": "code",
      "metadata": {
        "id": "01TnuWJlbMN5"
      },
      "source": [
        "def load_dataset(directory):\n",
        "\tX, y = list(), list()\n",
        "\tfor subdir in os.listdir(directory):\n",
        "\t\tpath = directory + '/'+subdir + '/'\n",
        "\t\tprint(os.path)\n",
        "\t\tfaces = load_faces(path)\n",
        "\t\tlabels = [subdir for _ in range(len(faces))]\n",
        "\t\tprint('>loaded %d examples for class: %s' % (len(faces), subdir))\n",
        "\t\tX.extend(faces)\n",
        "\t\ty.extend(labels)\n",
        "\treturn asarray(X), asarray(y)"
      ],
      "execution_count": 35,
      "outputs": []
    },
    {
      "cell_type": "code",
      "metadata": {
        "id": "QV_hDuwBfAtF"
      },
      "source": [
        "trainX, trainy = load_dataset('/content/drive/MyDrive/FaceNet/SampleImages/Train')\n",
        "print(trainX.shape, trainy.shape)\n",
        "testX, testy = load_dataset('/content/drive/MyDrive/FaceNet/SampleImages/Test')\n",
        "print(testX.shape, testy.shape)\n",
        "np.savez_compressed('dataset.npz', trainX, trainy, testX, testy)"
      ],
      "execution_count": null,
      "outputs": []
    }
  ]
}